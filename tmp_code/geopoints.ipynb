{
 "cells": [
  {
   "cell_type": "code",
   "execution_count": 4,
   "metadata": {
    "collapsed": true,
    "jupyter": {
     "outputs_hidden": true
    }
   },
   "outputs": [
    {
     "ename": "SyntaxError",
     "evalue": "invalid syntax (<ipython-input-4-9deec044b0d7>, line 2)",
     "output_type": "error",
     "traceback": [
      "\u001b[0;36m  File \u001b[0;32m\"<ipython-input-4-9deec044b0d7>\"\u001b[0;36m, line \u001b[0;32m2\u001b[0m\n\u001b[0;31m    MOVE BACK ONE DIRECTORY BEFORE RUNNING\u001b[0m\n\u001b[0m            ^\u001b[0m\n\u001b[0;31mSyntaxError\u001b[0m\u001b[0;31m:\u001b[0m invalid syntax\n"
     ]
    }
   ],
   "source": [
    "\"\"\"\n",
    "MOVE BACK ONE DIRECTORY BEFORE RUNNING\n",
    "REPOPULATES TMP FOLDER\n",
    "TAKES A LONG TIME\n",
    "\"\"\"\n",
    "\n",
    "import os, re\n",
    "import json\n",
    "import math\n",
    "import numpy as np\n",
    "import pandas as pd\n",
    "\n",
    "from utils.dataset import dataset\n",
    "\n",
    "from tqdm import tqdm\n"
   ]
  },
  {
   "cell_type": "code",
   "execution_count": 2,
   "metadata": {
    "collapsed": true,
    "jupyter": {
     "outputs_hidden": true
    }
   },
   "outputs": [
    {
     "ename": "FileNotFoundError",
     "evalue": "[Errno 2] No such file or directory: 'data'",
     "output_type": "error",
     "traceback": [
      "\u001b[0;31m---------------------------------------------------------------------------\u001b[0m",
      "\u001b[0;31mFileNotFoundError\u001b[0m                         Traceback (most recent call last)",
      "\u001b[0;32m<ipython-input-2-069d61656c1b>\u001b[0m in \u001b[0;36m<module>\u001b[0;34m()\u001b[0m\n\u001b[0;32m----> 1\u001b[0;31m \u001b[0mdescription\u001b[0m\u001b[0;34m,\u001b[0m \u001b[0mdf\u001b[0m \u001b[0;34m=\u001b[0m \u001b[0mdataset\u001b[0m\u001b[0;34m(\u001b[0m\u001b[0;34m)\u001b[0m\u001b[0;34m\u001b[0m\u001b[0;34m\u001b[0m\u001b[0m\n\u001b[0m",
      "\u001b[0;32m/home/dead4taxreasons/Desktop/RTI/data-scientist-exercise02/tmp_code/dataset.py\u001b[0m in \u001b[0;36mdataset\u001b[0;34m()\u001b[0m\n\u001b[1;32m     16\u001b[0m \u001b[0;34m\u001b[0m\u001b[0m\n\u001b[1;32m     17\u001b[0m \u001b[0;32mdef\u001b[0m \u001b[0mdataset\u001b[0m\u001b[0;34m(\u001b[0m\u001b[0;34m)\u001b[0m\u001b[0;34m:\u001b[0m\u001b[0;34m\u001b[0m\u001b[0;34m\u001b[0m\u001b[0m\n\u001b[0;32m---> 18\u001b[0;31m     \u001b[0mjsons\u001b[0m \u001b[0;34m=\u001b[0m \u001b[0;34m[\u001b[0m\u001b[0mi\u001b[0m \u001b[0;32mfor\u001b[0m \u001b[0mi\u001b[0m \u001b[0;32min\u001b[0m \u001b[0mos\u001b[0m\u001b[0;34m.\u001b[0m\u001b[0mlistdir\u001b[0m\u001b[0;34m(\u001b[0m\u001b[0;34m'data'\u001b[0m\u001b[0;34m)\u001b[0m \u001b[0;32mif\u001b[0m \u001b[0;34m'Narrative'\u001b[0m \u001b[0;32min\u001b[0m \u001b[0mi\u001b[0m\u001b[0;34m]\u001b[0m\u001b[0;34m\u001b[0m\u001b[0;34m\u001b[0m\u001b[0m\n\u001b[0m\u001b[1;32m     19\u001b[0m \u001b[0;34m\u001b[0m\u001b[0m\n\u001b[1;32m     20\u001b[0m     \u001b[0mpath_to_xml_file\u001b[0m \u001b[0;34m=\u001b[0m \u001b[0;34m'../data/AviationData.xml'\u001b[0m\u001b[0;34m\u001b[0m\u001b[0;34m\u001b[0m\u001b[0m\n",
      "\u001b[0;31mFileNotFoundError\u001b[0m: [Errno 2] No such file or directory: 'data'"
     ]
    }
   ],
   "source": [
    "description, df = dataset()"
   ]
  },
  {
   "cell_type": "code",
   "execution_count": 16,
   "metadata": {
    "collapsed": true,
    "jupyter": {
     "outputs_hidden": true
    }
   },
   "outputs": [
    {
     "name": "stderr",
     "output_type": "stream",
     "text": [
      "100%|██████████| 500/500 [08:15<00:00,  1.01it/s]\n",
      "100%|██████████| 500/500 [08:17<00:00,  1.01it/s]\n",
      "100%|██████████| 500/500 [08:17<00:00,  1.00it/s]\n",
      "100%|██████████| 500/500 [08:29<00:00,  1.02s/it]\n",
      "100%|██████████| 500/500 [08:24<00:00,  1.01s/it]\n",
      "100%|██████████| 500/500 [08:23<00:00,  1.01s/it]\n",
      "100%|██████████| 500/500 [08:21<00:00,  1.00s/it]\n",
      "100%|██████████| 500/500 [08:23<00:00,  1.01s/it]\n",
      "100%|██████████| 500/500 [08:20<00:00,  1.00s/it]\n",
      "100%|██████████| 500/500 [08:26<00:00,  1.01s/it]\n",
      "100%|██████████| 500/500 [08:31<00:00,  1.02s/it]\n",
      "100%|██████████| 500/500 [08:22<00:00,  1.01s/it]\n",
      "100%|██████████| 500/500 [08:23<00:00,  1.01s/it]\n",
      "100%|██████████| 500/500 [08:24<00:00,  1.01s/it]\n",
      "100%|██████████| 500/500 [08:23<00:00,  1.01s/it]\n",
      "100%|██████████| 500/500 [08:26<00:00,  1.01s/it]\n",
      "100%|██████████| 500/500 [08:20<00:00,  1.00s/it]\n",
      "100%|██████████| 500/500 [08:25<00:00,  1.01s/it]\n",
      "100%|██████████| 500/500 [08:18<00:00,  1.00it/s]\n",
      "100%|██████████| 500/500 [08:22<00:00,  1.00s/it]\n",
      "100%|██████████| 500/500 [08:18<00:00,  1.00it/s]\n",
      "100%|██████████| 500/500 [08:23<00:00,  1.01s/it]\n",
      "100%|██████████| 500/500 [08:21<00:00,  1.00s/it]\n",
      "100%|██████████| 500/500 [08:17<00:00,  1.00it/s]\n",
      "100%|██████████| 500/500 [08:19<00:00,  1.00it/s]\n",
      "100%|██████████| 500/500 [08:21<00:00,  1.00s/it]\n",
      "100%|██████████| 500/500 [08:19<00:00,  1.00it/s]\n",
      "100%|██████████| 500/500 [08:17<00:00,  1.01it/s]\n",
      "100%|██████████| 500/500 [08:16<00:00,  1.01it/s]\n",
      "100%|██████████| 500/500 [08:10<00:00,  1.02it/s]\n"
     ]
    }
   ],
   "source": [
    "from geopy.exc import GeocoderTimedOut\n",
    "from geopy.geocoders import Nominatim\n",
    "from tqdm import tqdm \n",
    "# declare an empty list to store\n",
    "# latitude and longitude of values \n",
    "# of city column\n",
    "longitude = []\n",
    "latitude = []\n",
    "\n",
    "\n",
    "# function to find the coordinate\n",
    "# of a given city \n",
    "def findGeocode(city):\n",
    "       \n",
    "    # try and catch is used to overcome\n",
    "    # the exception thrown by geolocator\n",
    "    # using geocodertimedout  \n",
    "    try:\n",
    "          \n",
    "        # Specify the user_agent as your\n",
    "        # app name it should not be none\n",
    "        geolocator = Nominatim(user_agent=\"your_app_name\")\n",
    "          \n",
    "        return geolocator.geocode(city, timeout=10)\n",
    "      \n",
    "    except GeocoderTimedOut:\n",
    "          \n",
    "        return findGeocode(city)    \n",
    "\n",
    "for round_ in range(int(df[df['TotalFatalInjuries']>0].shape[0]/500)):\n",
    "    for i in tqdm(df[df['TotalFatalInjuries']>0][\"Location\"].iloc[round_*500:(round_+1)*500]):\n",
    "        try:\n",
    "            if findGeocode(i) != None:\n",
    "                loc = findGeocode(i)\n",
    "                latitude.append(loc.latitude)\n",
    "                longitude.append(loc.longitude)\n",
    "\n",
    "            else:\n",
    "                latitude.append(np.nan)\n",
    "                longitude.append(np.nan)\n",
    "        except:\n",
    "            latitude.append(np.nan)\n",
    "            longitude.append(np.nan)\n",
    "            continue\n",
    "pd.DataFrame({'lat':latitude, 'long':longitude}).to_csv('tmp/latlongs_{}.csv'.format(round_))"
   ]
  },
  {
   "cell_type": "code",
   "execution_count": 9,
   "metadata": {},
   "outputs": [],
   "source": [
    "import requests\n",
    "import json\n",
    "\n",
    "def get_city_opendata(city, country):\n",
    "    tmp = 'https://public.opendatasoft.com/api/records/1.0/search/?dataset=worldcitiespop&q=%s&sort=population&facet=country&refine.country=%s'\n",
    "    cmd = tmp % (city, country)\n",
    "    res = requests.get(cmd)\n",
    "    dct = json.loads(res.content)\n",
    "    out = dct['records'][0]['fields']\n",
    "    return out\n",
    "\n",
    "def write_query(df_, i):\n",
    "    df = df_.copy()\n",
    "    \n",
    "    populations = []\n",
    "    geopoints = []\n",
    "    try:\n",
    "        country = pycountry.countries.search_fuzzy(df['Country'].iloc[i].lower())[0].alpha_2.lower()\n",
    "        if country == 'us':\n",
    "            tmp = 'https://public.opendatasoft.com/api/records/1.0/search/?dataset=worldcitiespop&q=%s&sort=population&facet=state&refine.state=%s'\n",
    "            city = df[\"Location\"].iloc[i].split(', ')[0].lower()\n",
    "            state = df[\"Location\"].iloc[i].split(', ')[1].lower()\n",
    "            cmd = tmp % (city, state)\n",
    "            res = requests.get(cmd)\n",
    "            dct = json.loads(res.content)\n",
    "            populations.append(dct['records'][0]['fields']['population'])\n",
    "            geopoints.append(dct['records'][0]['fields']['geopoint'])\n",
    "        else:\n",
    "            tmp = 'https://public.opendatasoft.com/api/records/1.0/search/?dataset=worldcitiespop&q=%s&sort=population&facet=country&refine.country=%s'\n",
    "            city = df[\"Location\"].iloc[i].split(', ')[0].lower()\n",
    "            cmd = tmp % (city, country)\n",
    "            res = requests.get(cmd)\n",
    "            dct = json.loads(res.content)\n",
    "            populations.append(np.nan)\n",
    "            geopoints.append(np.nan)\n",
    "    except:\n",
    "        populations.append(np.nan)\n",
    "        geopoints.append(np.nan)\n",
    "\n",
    "    with open('tmp/populations.txt', 'a') as writer:\n",
    "        writer.write('%s\\n' % str(populations[-1]))\n",
    "    writer.close()\n",
    "    \n",
    "    with open('tmp/geopoints.txt', 'a') as writer:\n",
    "        try:\n",
    "            writer.write('%s %s\\n' % (str(geopoints[-1][0]), str(geopoints[-1][1])))\n",
    "        except:\n",
    "            writer.write('missing\\n')\n",
    "    writer.close()\n",
    "    \n",
    "    return None\n"
   ]
  },
  {
   "cell_type": "code",
   "execution_count": 10,
   "metadata": {
    "collapsed": true,
    "jupyter": {
     "outputs_hidden": true
    }
   },
   "outputs": [
    {
     "name": "stderr",
     "output_type": "stream",
     "text": [
      "100%|██████████| 500/500 [06:32<00:00,  1.27it/s]\n",
      "100%|██████████| 500/500 [06:32<00:00,  1.27it/s]\n",
      "100%|██████████| 500/500 [06:27<00:00,  1.29it/s]\n",
      "100%|██████████| 500/500 [06:33<00:00,  1.27it/s]\n",
      "100%|██████████| 500/500 [06:34<00:00,  1.27it/s]\n",
      "100%|██████████| 500/500 [06:46<00:00,  1.23it/s]\n",
      "100%|██████████| 500/500 [07:09<00:00,  1.17it/s]\n",
      "100%|██████████| 500/500 [07:15<00:00,  1.15it/s]\n",
      "100%|██████████| 500/500 [06:46<00:00,  1.23it/s]\n",
      "100%|██████████| 500/500 [06:36<00:00,  1.26it/s]\n",
      "100%|██████████| 500/500 [06:32<00:00,  1.27it/s]\n",
      "100%|██████████| 500/500 [06:41<00:00,  1.25it/s]\n",
      "100%|██████████| 500/500 [06:45<00:00,  1.23it/s]\n",
      "100%|██████████| 500/500 [06:34<00:00,  1.27it/s]\n",
      "100%|██████████| 500/500 [06:34<00:00,  1.27it/s]\n",
      "100%|██████████| 500/500 [06:38<00:00,  1.26it/s]\n",
      "100%|██████████| 500/500 [06:26<00:00,  1.29it/s]\n",
      "100%|██████████| 500/500 [06:31<00:00,  1.28it/s]\n",
      "100%|██████████| 500/500 [06:38<00:00,  1.25it/s]\n",
      "100%|██████████| 500/500 [06:35<00:00,  1.27it/s]\n",
      "100%|██████████| 500/500 [06:16<00:00,  1.33it/s]\n",
      "100%|██████████| 500/500 [06:35<00:00,  1.26it/s]\n",
      "100%|██████████| 500/500 [07:18<00:00,  1.14it/s]\n",
      "100%|██████████| 500/500 [06:55<00:00,  1.20it/s]\n",
      "100%|██████████| 500/500 [07:18<00:00,  1.14it/s]\n",
      "100%|██████████| 500/500 [07:18<00:00,  1.14it/s]\n",
      "100%|██████████| 500/500 [06:42<00:00,  1.24it/s]\n",
      "100%|██████████| 500/500 [06:48<00:00,  1.22it/s]\n",
      "100%|██████████| 500/500 [06:29<00:00,  1.28it/s]\n",
      "100%|██████████| 500/500 [06:35<00:00,  1.26it/s]\n"
     ]
    }
   ],
   "source": [
    "import pycountry\n",
    "\n",
    "\n",
    "fatal_only = df[df['TotalFatalInjuries']>0]\n",
    "\n",
    "rounds = int(fatal_only.shape[0]/500)\n",
    "\n",
    "for round_ in range(rounds):\n",
    "    for i in tqdm(range(round_*500,(round_+1)*500)):\n",
    "        write_query(df_ = fatal_only, i = i)"
   ]
  }
 ],
 "metadata": {
  "kernelspec": {
   "display_name": "Python 3",
   "language": "python",
   "name": "python3"
  },
  "language_info": {
   "codemirror_mode": {
    "name": "ipython",
    "version": 3
   },
   "file_extension": ".py",
   "mimetype": "text/x-python",
   "name": "python",
   "nbconvert_exporter": "python",
   "pygments_lexer": "ipython3",
   "version": "3.6.9"
  }
 },
 "nbformat": 4,
 "nbformat_minor": 4
}
